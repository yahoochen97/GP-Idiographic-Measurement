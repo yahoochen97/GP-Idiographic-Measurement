{
 "cells": [
  {
   "cell_type": "markdown",
   "metadata": {},
   "source": [
    "#### Variational Inference with dynamic Βayesian Gaussian process latent variation model with gpytorch\n",
    "\n",
    "In this tutorial, I am going show how to build a dynamic Βayesian Gaussian process latent variation modelfor psychological measurement problem. We approximate the latent vectors with variational distributions and the response function mapping using the Gaussian process framework,  a family of non-parametric methods that enable flexible modeling of the mappings. Since the complexity of training Gaussian process model scales cubicly in time and squarely in storage, we adopt a [sparse Gaussian process approach](http://proceedings.mlr.press/v5/titsias09a/titsias09a.pdf) based on a small set of inducing points. Our tutorial is based on [gpytorch](https://gpytorch.ai/), an efficient and user-friendly implementation of Gaussian process models in python. "
   ]
  },
  {
   "cell_type": "code",
   "execution_count": 5,
   "metadata": {},
   "outputs": [],
   "source": [
    "# loading packages\n",
    "import numpy as np\n",
    "import matplotlib.pylab as plt\n",
    "import torch\n",
    "import os\n",
    "import gpytorch\n",
    "from gpytorch.mlls import VariationalELBO\n",
    "\n",
    "from scipy.stats import norm\n",
    "torch.manual_seed(8927)\n",
    "np.random.seed(8927)\n",
    "torch.set_default_dtype(torch.float64)\n",
    "\n",
    "import warnings\n",
    "warnings.filterwarnings(\"ignore\")\n",
    "\n",
    "from gpytorch.models import ApproximateGP\n",
    "from gpytorch.mlls import VariationalELBO\n",
    "from gpytorch.priors import NormalPrior, MultivariateNormalPrior\n",
    "from gpytorch.likelihoods import BernoulliLikelihood\n",
    "from gpytorch.variational import VariationalStrategy\n",
    "from gpytorch.variational import CholeskyVariationalDistribution\n",
    "from gpytorch.kernels import LinearKernel, RBFKernel, ScaleKernel\n",
    "from gpytorch.distributions import MultivariateNormal\n",
    "from torch.nn import ModuleList"
   ]
  },
  {
   "cell_type": "markdown",
   "metadata": {},
   "source": [
    "The problem setting is exactly the same as the other tutorial [Variational Inference with dynamic latent variable model with pyro](https://github.com/yahoochen97/GP-Idiographic-Measurement/blob/main/dynanmic_lvm.ipynb)."
   ]
  },
  {
   "cell_type": "code",
   "execution_count": 8,
   "metadata": {},
   "outputs": [
    {
     "name": "stdout",
     "output_type": "stream",
     "text": [
      "torch.Size([300, 10])\n"
     ]
    }
   ],
   "source": [
    "# generate synthetic data\n",
    "n = 20\n",
    "m = 10\n",
    "horizon = 15\n",
    "latent_dim = 1\n",
    "\n",
    "true_slope = np.concatenate((np.random.normal(2,0.5,size=(m//2,1)),\n",
    "                    np.random.normal(-2,0.5,size=(m//2,1)))).reshape(m,latent_dim)\n",
    "\n",
    "x = torch.zeros((n, horizon))\n",
    "x_cov = RBFKernel()\n",
    "x_cov.lengthscale = horizon // 3 if horizon > 1 else 1\n",
    "x_cov = x_cov(torch.arange(horizon)).evaluate()\n",
    "for i in range(n):\n",
    "    x[i] = (2*torch.bernoulli(torch.tensor(0.5))-1) + \\\n",
    "        MultivariateNormal(torch.zeros(horizon), x_cov+1e-6*torch.eye(horizon)).sample()\n",
    "\n",
    "true_p = np.zeros((n, horizon, m))\n",
    "for i in range(n):\n",
    "    for j in range(m):\n",
    "        true_p[i,:,j] = norm.cdf(true_slope[j] * x[i].numpy())\n",
    "y = np.random.binomial(1, true_p)\n",
    "y = torch.tensor(y).reshape((n*horizon,m))\n",
    "print(y.shape)"
   ]
  },
  {
   "cell_type": "markdown",
   "metadata": {},
   "source": [
    "The dynamic latent variables are implemented as a gpytorch module:"
   ]
  },
  {
   "cell_type": "code",
   "execution_count": 9,
   "metadata": {},
   "outputs": [],
   "source": [
    "from gpytorch.module import Module\n",
    "from gpytorch.mlls import KLGaussianAddedLossTerm\n",
    "\n",
    "class DynamicLatentVariable(Module):\n",
    "    \"\"\"\n",
    "    This super class is used to describe the type of inference\n",
    "    used for the latent variable :math:`\\\\mathbf X` in GPLVM models.\n",
    "\n",
    "    :param int n: Size of the latent space.\n",
    "    :param int latent_dim: Dimensionality of latent space.\n",
    "    \"\"\"\n",
    "\n",
    "    def __init__(self, n, horizon, dim):\n",
    "        super().__init__()\n",
    "        self.n = n\n",
    "        self.latent_dim = dim\n",
    "        self.horizon = horizon\n",
    "\n",
    "    def forward(self, x):\n",
    "        raise NotImplementedError\n",
    "    \n",
    "class VariationalDynamicLatentVariable(DynamicLatentVariable):\n",
    "    \"\"\"\n",
    "    This class is used for dynamic GPLVM models to recover a variational approximation of\n",
    "    the latent variable :math:`\\\\mathbf X`.\n",
    "\n",
    "    :param int n: Size of the latent space.\n",
    "    :param int data_dim: Dimensionality of the :math:`\\\\mathbf Y` values.\n",
    "    :param int horizon: length of length series\n",
    "    :param int latent_dim: Dimensionality of latent space.\n",
    "    :param torch.Tensor X_init: initialization of :math:`\\\\mathbf X`, shape of n x (latent_dim*horizon)\n",
    "    :param ~gpytorch.priors.Prior prior_x: prior for :math:`\\\\mathbf X`, shape of n x (latent_dim*horizon)\n",
    "    \"\"\"\n",
    "\n",
    "    def __init__(self, n, data_dim, horizon, latent_dim, X_init, prior_x):\n",
    "        super().__init__(n, horizon, latent_dim)\n",
    "        self.data_dim = data_dim # m\n",
    "        self.prior_x = prior_x\n",
    "\n",
    "        # Local variational params per latent point with dimensionality latent_dim\n",
    "        self.q_mu = torch.nn.Parameter(X_init) # n x (horizon*laten_dim)\n",
    "        # K_dim = diag(v) + BB^T (v>0)\n",
    "        self.q_dim_v = torch.nn.Parameter(torch.randn(latent_dim,1)) \n",
    "        self.q_dim_B = torch.nn.Parameter(torch.randn(latent_dim,1)) \n",
    "        self.q_time_var = torch.nn.Parameter(torch.ones(n,)) # diagonal K_t\n",
    "        # This will add the KL divergence KL(q(X_i) || p(X_i)) to the loss\n",
    "        for i in range(n):\n",
    "            self.register_added_loss_term(f\"x_{i}_kl\")\n",
    "\n",
    "    def forward(self):\n",
    "        # Variational distribution over the latent variable q(x)\n",
    "        results = torch.zeros((self.n, self.horizon*self.latent_dim))\n",
    "        for i in range(self.n):\n",
    "            # sigmoid for v so they are in the range of [0,1]\n",
    "            # 2 sigmoid - 1 for B so they are in the range of [-1,1]\n",
    "            tmp = 2*torch.sigmoid(self.q_dim_B) - 1\n",
    "            K_dim = torch.matmul(tmp, tmp.t()) + \\\n",
    "                    torch.diag(torch.sigmoid(self.q_dim_v))\n",
    "            # sigmoid for q_var so the variational variance are between 0 and 1\n",
    "            K_t = torch.sigmoid(self.q_time_var[i]) * torch.eye(self.horizon)\n",
    "            q_x = MultivariateNormal(self.q_mu[i], torch.kron(K_dim, K_t)\\\n",
    "                                     +1e-6*torch.eye(self.horizon*self.latent_dim))\n",
    "            x_kl = KLGaussianAddedLossTerm(q_x, self.prior_x, 1, self.data_dim)\n",
    "            self.update_added_loss_term(f\"x_{i}_kl\", x_kl)  # Update the KL term\n",
    "            results[i] = q_x.rsample()\n",
    "        return results\n"
   ]
  },
  {
   "cell_type": "markdown",
   "metadata": {},
   "source": [
    "We extent [BGPLVM](https://docs.gpytorch.ai/en/stable/examples/045_GPLVM/Gaussian_Process_Latent_Variable_Models_with_Stochastic_Variational_Inference.html) to dynamic latent variable. We set the inducing point locations at an evenly spread grid from between -3 and 3. We assign normal priors to both response slope and the latent vectors."
   ]
  },
  {
   "cell_type": "code",
   "execution_count": 10,
   "metadata": {},
   "outputs": [],
   "source": [
    "from gpytorch.means import Mean\n",
    "\n",
    "class LinearMeanWithPrior(Mean):\n",
    "    def __init__(self, input_size, weights_prior=None, weights_constraint=None, batch_shape=torch.Size()):\n",
    "        super().__init__()\n",
    "        self.register_parameter(name=\"raw_weights\", parameter=torch.nn.Parameter(torch.zeros(*batch_shape, input_size)))\n",
    "        if weights_prior is not None:\n",
    "            self.register_prior(\"weights_prior\", weights_prior, self._weights_param, self._weights_closure)\n",
    "        if weights_constraint is not None:\n",
    "            self.register_constraint(\"raw_weights\", weights_constraint)\n",
    "\n",
    "    def forward(self, x):\n",
    "        res = x.matmul(self.weights).squeeze(-1)\n",
    "        return res\n",
    "    \n",
    "    @property\n",
    "    def weights(self):\n",
    "        return self._weights_param(self)\n",
    "\n",
    "    @weights.setter\n",
    "    def weights(self, value):\n",
    "        self._weights_closure(self, value)\n",
    "\n",
    "    def _weights_param(self, m):\n",
    "        if hasattr(m, \"raw_weights_constraint\"):\n",
    "            return m.raw_weights_constraint.transform(m.raw_weights)\n",
    "        return m.raw_weights\n",
    "\n",
    "    def _weights_closure(self, m, values):\n",
    "        if not torch.is_tensor(values):\n",
    "            value = torch.as_tensor(values).to(m.raw_weights)\n",
    "\n",
    "        if hasattr(m, \"raw_weights_constraint\"):\n",
    "            m.initialize(raw_weights=m.raw_weights_constraint.inverse_transform(values))\n",
    "        else:\n",
    "            m.initialize(raw_weights=values)\n",
    "\n",
    "class GPIRT(ApproximateGP):\n",
    "    def __init__(self, n, m, horizon, latent_dim, n_inducing, X_init):\n",
    "        self.n = n # infer n*horizon latent variables \n",
    "        self.horizon = horizon # time series of length horizon\n",
    "        self.batch_shape = torch.Size([m]) # infer m weights\n",
    "        self.latent_dim = latent_dim\n",
    "\n",
    "        # Locations Z_{d} corresponding to u_{d}\n",
    "        self.inducing_inputs = torch.linspace(-3,3,n_inducing).t()\n",
    "        # Sparse Variational Formulation\n",
    "        q_u = CholeskyVariationalDistribution(n_inducing, batch_shape=self.batch_shape)\n",
    "        q_f = VariationalStrategy(self, self.inducing_inputs, q_u, \\\n",
    "                                  learn_inducing_locations=False)\n",
    "        super().__init__(q_f)\n",
    "\n",
    "        # Define prior for X\n",
    "        X_prior_mean = torch.zeros(horizon*latent_dim,)  # shape: 1 x Q\n",
    "        X_prior_cov = RBFKernel()\n",
    "        X_prior_cov.lengthscale = horizon // 3 if horizon > 1 else 1\n",
    "        X_prior_cov = X_prior_cov(torch.arange(horizon)).evaluate() \\\n",
    "              + 4*torch.ones((horizon,horizon)) + 1e-6*torch.eye(horizon)\n",
    "        X_prior_cov = torch.kron(torch.eye(latent_dim),X_prior_cov)\n",
    "        prior_x = MultivariateNormalPrior(X_prior_mean, covariance_matrix=X_prior_cov)\n",
    "\n",
    "        X = VariationalDynamicLatentVariable(n, m, horizon, latent_dim, X_init, prior_x)\n",
    "        self.X = X\n",
    "\n",
    "        # Kernel (acting on latent dimensions)\n",
    "        self.mean_module = ModuleList([LinearMeanWithPrior(input_size=latent_dim, \\\n",
    "                        weights_prior=NormalPrior(0.,2.)) for _ in range(m)])\n",
    "        self.covar_module = LinearKernel(ard_num_dims=latent_dim)\n",
    "    \n",
    "    def sample_latent_variable(self):\n",
    "        sample = self.X()\n",
    "        return sample\n",
    "\n",
    "    def forward(self, X):\n",
    "        m = len(self.mean_module)\n",
    "        mean_x = torch.zeros((m, X.shape[0]))\n",
    "        for j in range(m):\n",
    "            mean_x[j] = self.mean_module[j](X)\n",
    "        covar_x = self.covar_module(X).unsqueeze(0).repeat(m, 1, 1)\n",
    "        dist = MultivariateNormal(mean_x, covar_x)\n",
    "        return dist\n",
    "\n",
    "    def _get_batch_idx(self, batch_size, iter):\n",
    "        valid_indices = np.arange(self.n*self.horizon)\n",
    "        iter_ = iter % (self.n*self.horizon//batch_size)\n",
    "        batch_indices = valid_indices[(batch_size*iter_):(batch_size*iter_+batch_size)]\n",
    "        return np.sort(batch_indices)"
   ]
  },
  {
   "cell_type": "markdown",
   "metadata": {},
   "source": [
    "We set initialize the variational parameters to zero and use `Adam()` optimizer to learn the variational parameters."
   ]
  },
  {
   "cell_type": "code",
   "execution_count": 31,
   "metadata": {},
   "outputs": [
    {
     "name": "stdout",
     "output_type": "stream",
     "text": [
      "Elbo loss: 467737861.3097511 for 0/2000\n",
      "Elbo loss: 2619569.201855554 for 50/2000\n",
      "Elbo loss: 647650.7054953204 for 100/2000\n",
      "Elbo loss: 212525.65347366614 for 150/2000\n",
      "Elbo loss: 71125.47085885896 for 200/2000\n",
      "Elbo loss: 33799.875565471506 for 250/2000\n",
      "Elbo loss: 24839.267728120256 for 300/2000\n",
      "Elbo loss: 19729.88053058464 for 350/2000\n",
      "Elbo loss: 21252.78601638734 for 400/2000\n",
      "Elbo loss: 19473.34226858105 for 450/2000\n",
      "Elbo loss: 20696.26859627046 for 500/2000\n",
      "Elbo loss: 18890.711585795732 for 550/2000\n",
      "Elbo loss: 21028.09446759576 for 600/2000\n",
      "Elbo loss: 19478.193757486377 for 650/2000\n",
      "Elbo loss: 20022.698306531118 for 700/2000\n",
      "Elbo loss: 20112.623492045364 for 750/2000\n",
      "Elbo loss: 19994.862006522093 for 800/2000\n",
      "Elbo loss: 21464.901793980313 for 850/2000\n",
      "Elbo loss: 18988.770540107478 for 900/2000\n",
      "Elbo loss: 18129.779332967242 for 950/2000\n",
      "Elbo loss: 18152.818608701797 for 1000/2000\n",
      "Elbo loss: 19006.54731537085 for 1050/2000\n",
      "Elbo loss: 17161.44755635838 for 1100/2000\n",
      "Elbo loss: 19404.088186833087 for 1150/2000\n",
      "Elbo loss: 23823.509691176292 for 1200/2000\n",
      "Elbo loss: 20165.033393516067 for 1250/2000\n",
      "Elbo loss: 18892.073908280225 for 1300/2000\n",
      "Elbo loss: 19976.74666211328 for 1350/2000\n",
      "Elbo loss: 21348.40080061923 for 1400/2000\n",
      "Elbo loss: 20565.84393736255 for 1450/2000\n",
      "Elbo loss: 20216.107420942033 for 1500/2000\n",
      "Elbo loss: 21102.626557067415 for 1550/2000\n",
      "Elbo loss: 19625.51519047843 for 1600/2000\n",
      "Elbo loss: 18965.26993546552 for 1650/2000\n",
      "Elbo loss: 21665.249024005578 for 1700/2000\n",
      "Elbo loss: 20292.21012374837 for 1750/2000\n",
      "Elbo loss: 20458.025064406225 for 1800/2000\n",
      "Elbo loss: 20162.475642722977 for 1850/2000\n",
      "Elbo loss: 21348.06529773178 for 1900/2000\n",
      "Elbo loss: 18958.882815431723 for 1950/2000\n"
     ]
    }
   ],
   "source": [
    "n_inducing = 30\n",
    "X_init = torch.nn.Parameter(torch.zeros((n,latent_dim*horizon)))\n",
    "\n",
    "model = GPIRT(n, m, horizon, latent_dim, n_inducing, X_init)\n",
    "likelihood = BernoulliLikelihood()\n",
    "\n",
    "batch_size = n*horizon // 5\n",
    "mll = VariationalELBO(likelihood, model, num_data=n*horizon*m)\n",
    "\n",
    "# fix variance of prior on w to be 0.01.\n",
    "hypers = {\n",
    "'covar_module.variance': torch.tensor(0.1**2),\n",
    "}\n",
    "\n",
    "model.initialize(**hypers)\n",
    "model.covar_module.raw_variance.requires_grad = False\n",
    "\n",
    "optimizer = torch.optim.Adam([\n",
    "    {'params': model.parameters()},\n",
    "    {'params': likelihood.parameters()}\n",
    "], lr=0.1, betas=(0.9, 0.95))\n",
    "\n",
    "# initial x/w with zero and MAP estimation\n",
    "loss_list = []\n",
    "n_steps = 2000\n",
    "for iter in range(n_steps):\n",
    "    batch_index = model._get_batch_idx(batch_size, iter)\n",
    "    optimizer.zero_grad()\n",
    "    sample = model.sample_latent_variable()  # a full sample returns latent x across all N\n",
    "    sample_batch = sample.reshape((-1,1))[batch_index]\n",
    "    output_batch = model(sample_batch)\n",
    "    # manually iterate m questions\n",
    "    loss = 0\n",
    "    for j in range(m):\n",
    "        output_batch_j = MultivariateNormal(output_batch.loc[j], output_batch.covariance_matrix[j])\n",
    "        loss += -mll(output_batch_j, y[batch_index,j].T).sum()\n",
    "\n",
    "    loss_list.append(loss.item())\n",
    "    loss.backward(retain_graph=True)\n",
    "    if iter % 50 == 0:\n",
    "        print(\"Elbo loss: {} for {}/{}\".format(loss, iter, n_steps))\n",
    "\n",
    "    optimizer.step()\n"
   ]
  },
  {
   "cell_type": "markdown",
   "metadata": {},
   "source": [
    "Visualize the VI loss"
   ]
  },
  {
   "cell_type": "code",
   "execution_count": 32,
   "metadata": {},
   "outputs": [
    {
     "data": {
      "image/png": "[encoded data removed]",
      "text/plain": [
       "<Figure size 432x288 with 1 Axes>"
      ]
     },
     "metadata": {
      "needs_background": "light"
     },
     "output_type": "display_data"
    }
   ],
   "source": [
    "plt.plot(loss_list, label='VI loss')\n",
    "plt.title('Neg. ELBO Loss', fontsize='small')\n",
    "plt.show()"
   ]
  },
  {
   "cell_type": "code",
   "execution_count": 33,
   "metadata": {},
   "outputs": [
    {
     "data": {
      "image/png": "[encoded data removed]",
      "text/plain": [
       "<Figure size 432x288 with 1 Axes>"
      ]
     },
     "metadata": {
      "needs_background": "light"
     },
     "output_type": "display_data"
    }
   ],
   "source": [
    "est_slopes = []\n",
    "for i in range(m):\n",
    "    # est_slopes.append(model.mean_weights.data[i])\n",
    "    est_slopes.append(model.mean_module[i].weights.detach().data.tolist())\n",
    "ratio =  np.std(true_slope) / np.std(est_slopes)\n",
    "\n",
    "plt.scatter(true_slope, np.array(est_slopes)*ratio)\n",
    "plt.xlabel(\"true_w\")\n",
    "plt.ylabel(\"est_w\")\n",
    "plt.show()"
   ]
  },
  {
   "cell_type": "code",
   "execution_count": 34,
   "metadata": {},
   "outputs": [
    {
     "data": {
      "image/png": "[encoded data removed]",
      "text/plain": [
       "<Figure size 432x288 with 1 Axes>"
      ]
     },
     "metadata": {
      "needs_background": "light"
     },
     "output_type": "display_data"
    }
   ],
   "source": [
    "est_X = model.X.q_mu.detach().numpy()\n",
    "plt.scatter(x, est_X/ratio)\n",
    "plt.xlabel(\"true_x\")\n",
    "plt.ylabel(\"est_x\")\n",
    "plt.show()"
   ]
  },
  {
   "cell_type": "markdown",
   "metadata": {},
   "source": []
  }
 ],
 "metadata": {
  "kernelspec": {
   "display_name": "base",
   "language": "python",
   "name": "python3"
  },
  "language_info": {
   "codemirror_mode": {
    "name": "ipython",
    "version": 3
   },
   "file_extension": ".py",
   "mimetype": "text/x-python",
   "name": "python",
   "nbconvert_exporter": "python",
   "pygments_lexer": "ipython3",
   "version": "3.7.3"
  },
  "orig_nbformat": 4
 },
 "nbformat": 4,
 "nbformat_minor": 2
}
