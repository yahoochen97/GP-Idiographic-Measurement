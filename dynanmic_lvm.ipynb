{
 "cells": [
  {
   "cell_type": "markdown",
   "metadata": {},
   "source": [
    "#### Variational Inference with dynamic latent variable model with pyro\n",
    "\n",
    "In this tutorial, I am going show how to build a dynamic latent variable model for psychological measurement problem. Given priors on the latent vectors and the response functions, both of the posteriors are approximated by variational methods that minimize the *distance* to the true posteriors. The variational approximation is performed using [pyro](https://pyro.ai/), a probabilistic programming language (PPL) written in Python which enables flexible and expressive deep probabilistic modeling and posterior estimation."
   ]
  },
  {
   "cell_type": "code",
   "execution_count": 11,
   "metadata": {},
   "outputs": [],
   "source": [
    "# load packages\n",
    "import numpy as np\n",
    "import matplotlib.pylab as plt\n",
    "import torch\n",
    "import pyro\n",
    "from pyro.distributions import Normal, Bernoulli, MultivariateNormal\n",
    "from pyro.distributions.constraints import positive\n",
    "from pyro.infer import SVI, Trace_ELBO\n",
    "from pyro.optim import Adam\n",
    "\n",
    "from pyro.infer import MCMC, NUTS\n",
    "\n",
    "from scipy.stats import norm\n",
    "torch.manual_seed(8927)\n",
    "np.random.seed(8927)\n",
    "\n",
    "import warnings\n",
    "warnings.filterwarnings(\"ignore\")"
   ]
  },
  {
   "cell_type": "markdown",
   "metadata": {},
   "source": [
    "Throughout this tutorial, we will look at the setting of $n$ respondents answering the same set of $m$ questions repeatedly over $T$ time periods. Each respondent $i$ is associated with a $T\\times 1$ latent vector $x_i$ and each question $j$ with a response slope $w_j$. Assuming the responses are binary, the probability of a positive response is modeled as a logit function: \n",
    "$$\n",
    "\\text{Pr}(y_{ijt}=1\\mid w_j,x_{it})=\\frac{1}{1+\\exp(-w_j x_{it})}\n",
    "$$\n",
    "As the above model is not invariant to scaling, meaning multiplying and dividing the same scale to $w_j$ and $x_{it}$ will induce the same likelihood, we proceed in a Bayesian fashion by assigning appropriate priors to both $w_j$ and $x_{it}$. Specifically, we use independent uni-variate and multi-variate normal priors where the covariance matrix is determined by a RBF kernel $K_t(t,t')=\\exp\\big(-(t-t')^2/\\ell^2\\big)$ with bandwidth $\\ell$.\n",
    "$$\n",
    "w_j\\sim\\mathcal{N}(0,1), \\qquad x_j \\sim\\mathcal{MVN}(0,K_t)\n",
    "$$"
   ]
  },
  {
   "cell_type": "code",
   "execution_count": 14,
   "metadata": {},
   "outputs": [],
   "source": [
    "# generate synthetic data\n",
    "pyro.clear_param_store()\n",
    "n = 20\n",
    "m = 10\n",
    "horizon = 9\n",
    "true_slope = np.concatenate((np.random.normal(2,0.5,size=(m//2,)),\n",
    "                                np.random.normal(-2,0.5,size=(m//2,)))).reshape(m,1)\n",
    "true_x = np.concatenate((np.linspace(-2, -1, n//2),\n",
    "                    np.linspace(1, 2, n//2))).reshape(n,1)\n",
    "true_x = np.tile(true_x, (1, horizon))\n",
    "\n",
    "for i in range(n):\n",
    "    tmp = np.arange(horizon)\n",
    "    from sklearn.metrics.pairwise import rbf_kernel\n",
    "    X = np.arange(horizon).reshape(-1,1)\n",
    "    cov = rbf_kernel(X, gamma = 9/horizon/horizon) + 1e-6*np.eye(horizon)\n",
    "\n",
    "    true_x[i] += np.random.multivariate_normal(np.zeros(horizon,),cov=cov)\n",
    "\n",
    "true_p = norm.cdf(np.dot(true_x.reshape((n,horizon,1)),np.transpose(true_slope)))\n",
    "y = np.random.binomial(1, true_p)\n",
    "y = torch.tensor(y).reshape((n*m*horizon,1))"
   ]
  },
  {
   "cell_type": "markdown",
   "metadata": {},
   "source": [
    "The joint posterior of $\\mathbf{x},\\mathbf{w}$ is then\n",
    "$$\n",
    "p(\\mathbf{x},\\mathbf{w}\\mid \\mathbf{y})\\propto \\prod_i p(x_i) \\prod_i p(w_j) \\prod_i \\prod_j \\prod_t p(y_{ijt}\\mid x_i, w_j)\n",
    "$$\n",
    "Unfortunately, closed-form posteriors of neither $w_j$ nor $x_i$ is available due to the non-Gaussian likelihood. However, one could approximate the true posterior $p(\\mathbf{x},\\mathbf{w}\\mid \\mathbf{y})$ using a parameterized distribution $q_{\\phi}(\\mathbf{x},\\mathbf{w})$ with some parameters $\\phi$ to be determined, such that the distance between $p(\\mathbf{x},\\mathbf{w}\\mid \\mathbf{y})$ and $q_{\\phi}(\\mathbf{x},\\mathbf{w}$ is minimized. This general approach is called variational inference and $q_{\\phi}(\\mathbf{x},\\mathbf{w}$ and $\\phi$ are the variational distribution and parameters. We adopt a mean field variational approach by assuming all variables in the variational distribution can be factorized as follows:\n",
    "$$\n",
    "q_{\\phi}(\\mathbf{x},\\mathbf{w})=\\prod_i\\prod_t q(x_{it}) \\prod_j q(w_j)\n",
    "$$\n",
    "where all $q(x_{it})$ and $q(w_j)$ are uni-variate normal with separate mean and variance values. Note that we factorize $q(x_i)=\\prod_t q(x_{it})$ so any dependency between $x_{it}$s is ignored, although one may directly use a multi-variate variational distribution on $q(x_i)$ but introduce more local variational parameters. In pyro, the prior distributions and the variational distributions are specified in `model()` and `guide()` functions separately."
   ]
  },
  {
   "cell_type": "code",
   "execution_count": 15,
   "metadata": {},
   "outputs": [],
   "source": [
    "def model(y):\n",
    "    # sample w from the mv normal prior\n",
    "    w = torch.zeros((m,1))\n",
    "    x = torch.zeros((n,horizon))\n",
    "    for i in range(m):\n",
    "        w[i] = pyro.sample(f\"w_{i}\", Normal(0, 1))\n",
    "    for i in range(n):\n",
    "        x[i] = pyro.sample(f\"x_{i}\", MultivariateNormal(torch.zeros(horizon), torch.tensor(cov)))\n",
    "    p = torch.sigmoid(torch.matmul(x.reshape((n,horizon,1)), w.t())).reshape((n*m*horizon,1))\n",
    "\n",
    "    return pyro.sample(\"obs\", Bernoulli(probs=p), obs=y)\n",
    "\n",
    "def guide(y):\n",
    "    # register variational parameters\n",
    "    w_mu = pyro.param(\"w_mu\", torch.zeros(m,))\n",
    "    w_std = pyro.param(\"w_std\", 0.01*torch.ones(m,), constraint=positive)\n",
    "\n",
    "    x_mu = pyro.param(\"x_mu\", torch.zeros((n,horizon)))\n",
    "    x_std = pyro.param(\"x_std\", 0.01*torch.ones((n,horizon)), constraint=positive)\n",
    "\n",
    "    for i in range(n):\n",
    "        pyro.sample(f\"x_{i}\", MultivariateNormal(x_mu[i], torch.diag(x_std[i])+1e-6*torch.eye(horizon)))\n",
    "\n",
    "    for i in range(m):\n",
    "        pyro.sample(f\"w_{i}\", Normal(w_mu[i], w_std[i]))"
   ]
  },
  {
   "cell_type": "markdown",
   "metadata": {},
   "source": [
    "After specifying the forms of the variational distribution, one still needs to determine the values of variational parameters to make $q_{\\phi}(\\mathbf{x},\\mathbf{w})$ as close to true posterior $p(\\mathbf{x},\\mathbf{w}\\mid \\mathbf{y})$. One of the common distances is the [Kullback-Leibler divergence](https://en.wikipedia.org/wiki/Kullback%E2%80%93Leibler_divergence) (KL divergence) between the variational distribution and the posterior, which measures how one distribution differs with another reference distribution:\n",
    "$$\n",
    "\\text{KL}\\big(q_{\\phi}(\\mathbf{x},\\mathbf{w}) \\| p(\\mathbf{x},\\mathbf{w}\\mid \\mathbf{y})\\big)=\\textbf{E}_{q_{\\phi}(\\mathbf{x},\\mathbf{w})}[\\log{\\frac{p(\\mathbf{x},\\mathbf{w}\\mid \\mathbf{y})}{q_{\\phi}(\\mathbf{x},\\mathbf{w})}}]\n",
    "$$\n",
    "It turns about that minimizing KL divergence is equivalent to maximizing the [evidence lower bound](https://en.wikipedia.org/wiki/Evidence_lower_bound) (ELBO), which equals the marginalized likelihood (evidence) of the model minus the KL divergence:\n",
    "$$\n",
    "\\text{ELBO}=\\log{p(\\mathbf{y})} - \\text{KL}\\big(q_{\\phi}(\\mathbf{x},\\mathbf{w}) \\| p(\\mathbf{x},\\mathbf{w}\\mid \\mathbf{y})\\big) \\le \\log{p(\\mathbf{y})}\n",
    "$$\n",
    "ELBO is the *lower bound* of the model evidence $\\log{p(\\mathbf{y})}$ because the KL divergence is always non-negative. In pyro, ELBO is defined as a built-in class `Trace_ELBO()` and can be maximized using off-the-shelf optimnizers such as `Adam()`."
   ]
  },
  {
   "cell_type": "code",
   "execution_count": 16,
   "metadata": {},
   "outputs": [
    {
     "name": "stdout",
     "output_type": "stream",
     "text": [
      "Elbo loss: 9049.553028306587 for 0/1000\n",
      "Elbo loss: 11446.698147085466 for 50/1000\n",
      "Elbo loss: 6137.443866836405 for 100/1000\n",
      "Elbo loss: 4459.2197497263505 for 150/1000\n",
      "Elbo loss: 3529.178639757699 for 200/1000\n",
      "Elbo loss: 3420.199249541077 for 250/1000\n",
      "Elbo loss: 2538.8361211748306 for 300/1000\n",
      "Elbo loss: 2592.6305425163328 for 350/1000\n",
      "Elbo loss: 2486.8267179782015 for 400/1000\n",
      "Elbo loss: 2384.757023368328 for 450/1000\n",
      "Elbo loss: 1934.761138470794 for 500/1000\n",
      "Elbo loss: 1925.2655610780587 for 550/1000\n",
      "Elbo loss: 1945.5740645175915 for 600/1000\n",
      "Elbo loss: 1577.2659243470607 for 650/1000\n",
      "Elbo loss: 1689.932911174665 for 700/1000\n",
      "Elbo loss: 1548.8539888236132 for 750/1000\n",
      "Elbo loss: 1357.749767660429 for 800/1000\n",
      "Elbo loss: 1147.2945867310723 for 850/1000\n",
      "Elbo loss: 1353.5430741601572 for 900/1000\n",
      "Elbo loss: 1243.5840695129245 for 950/1000\n"
     ]
    },
    {
     "data": {
      "image/png": "[encoded data removed]",
      "text/plain": [
       "<Figure size 360x144 with 1 Axes>"
      ]
     },
     "metadata": {
      "needs_background": "light"
     },
     "output_type": "display_data"
    }
   ],
   "source": [
    "adam_params = {\"lr\": 0.05, \"betas\": (0.95, 0.999)}\n",
    "optimizer = Adam(adam_params)\n",
    "\n",
    "# setup the inference algorithm\n",
    "svi = SVI(model, guide, optimizer, loss=Trace_ELBO())\n",
    "\n",
    "losses = []\n",
    "n_steps = 1000\n",
    "# do gradient steps\n",
    "for step in range(n_steps):\n",
    "    loss = svi.step(y.float())\n",
    "    losses.append(loss)\n",
    "    if step % 50 == 0:\n",
    "        print(\"Elbo loss: {} for {}/{}\".format(loss, step, n_steps))\n",
    "\n",
    "plt.figure(figsize=(5, 2))\n",
    "plt.plot(losses)\n",
    "plt.xlabel(\"SVI step\")\n",
    "plt.ylabel(\"ELBO loss\")\n",
    "plt.show()"
   ]
  },
  {
   "cell_type": "markdown",
   "metadata": {},
   "source": [
    "we can visualize the estimated variational mean of slopes and compare them to the ground truth slopes:"
   ]
  },
  {
   "cell_type": "code",
   "execution_count": 17,
   "metadata": {},
   "outputs": [
    {
     "data": {
      "image/png": "[encoded data removed]",
      "text/plain": [
       "<Figure size 432x288 with 1 Axes>"
      ]
     },
     "metadata": {
      "needs_background": "light"
     },
     "output_type": "display_data"
    }
   ],
   "source": [
    "# scatter plot of estimated variational mean of slopes versus true slopes\n",
    "est_slope = pyro.param(\"w_mu\").data.cpu().numpy()\n",
    "plt.scatter(est_slope, true_slope)\n",
    "plt.show()\n"
   ]
  },
  {
   "cell_type": "markdown",
   "metadata": {},
   "source": [
    "similar visualization with the variational mean of the latent variables"
   ]
  },
  {
   "cell_type": "code",
   "execution_count": 18,
   "metadata": {},
   "outputs": [
    {
     "data": {
      "image/png": "[encoded data removed]",
      "text/plain": [
       "<Figure size 432x288 with 1 Axes>"
      ]
     },
     "metadata": {
      "needs_background": "light"
     },
     "output_type": "display_data"
    }
   ],
   "source": [
    "# scatter plot of estimated variational mean of latent variables versus true variables\n",
    "est_x = pyro.param(\"x_mu\").data.cpu().numpy()\n",
    "plt.scatter(est_x, true_x)\n",
    "plt.show()"
   ]
  },
  {
   "cell_type": "code",
   "execution_count": null,
   "metadata": {},
   "outputs": [],
   "source": []
  }
 ],
 "metadata": {
  "kernelspec": {
   "display_name": "base",
   "language": "python",
   "name": "python3"
  },
  "language_info": {
   "codemirror_mode": {
    "name": "ipython",
    "version": 3
   },
   "file_extension": ".py",
   "mimetype": "text/x-python",
   "name": "python",
   "nbconvert_exporter": "python",
   "pygments_lexer": "ipython3",
   "version": "3.7.3"
  },
  "orig_nbformat": 4
 },
 "nbformat": 4,
 "nbformat_minor": 2
}
