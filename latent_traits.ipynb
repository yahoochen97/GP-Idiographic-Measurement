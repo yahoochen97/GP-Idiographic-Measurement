{
 "cells": [
  {
   "cell_type": "code",
   "execution_count": 1,
   "metadata": {},
   "outputs": [],
   "source": [
    "# loading packages\n",
    "import numpy as np\n",
    "import matplotlib.pylab as plt\n",
    "import torch\n",
    "import pandas as pd\n",
    "import gpytorch\n",
    "from gpytorch.mlls import VariationalELBO\n",
    "\n",
    "from scipy.stats import norm\n",
    "torch.manual_seed(8927)\n",
    "np.random.seed(8927)\n",
    "torch.set_default_dtype(torch.float64)\n",
    "\n",
    "import warnings\n",
    "warnings.filterwarnings(\"ignore\")\n",
    "\n",
    "from gpytorch.models import ApproximateGP\n",
    "from gpytorch.mlls import VariationalELBO\n",
    "from gpytorch.priors import NormalPrior, MultivariateNormalPrior\n",
    "from gpytorch.likelihoods import BernoulliLikelihood\n",
    "from gpytorch.variational import VariationalStrategy\n",
    "from gpytorch.variational import CholeskyVariationalDistribution\n",
    "from gpytorch.means import ConstantMean\n",
    "from gpytorch.kernels import LinearKernel, RBFKernel\n",
    "from gpytorch.distributions import MultivariateNormal\n",
    "from torch.nn import ModuleList\n",
    "\n",
    "from utilities.util import MyDirichletClassificationLikelihood"
   ]
  },
  {
   "cell_type": "code",
   "execution_count": 2,
   "metadata": {},
   "outputs": [],
   "source": [
    "# load data\n",
    "data = pd.read_csv(\"./data/item_long_unimp.csv\")\n",
    "\n",
    "# SID: the subject ID\n",
    "# all_beeps: the assessment wave\n",
    "# Trait: one of the Big Five\n",
    "# Facet: one of the facets hypothesized to be under one of the Big Five traits (3 of each big 5)\n",
    "# Item: the item name (4 per facet)\n",
    "# Value: the rating \n",
    "\n",
    "data = data[(data.all_beeps<=2000)]\n",
    "SIDs = data.SID.unique()\n",
    "SIDs.sort()\n",
    "Items = data.Item.unique()\n",
    "Items.sort()\n",
    "Beeps = data.all_beeps.unique()\n",
    "Beeps.sort()\n",
    "TRAITS = data.Trait.unique()\n",
    "C = max(data.value.unique())\n",
    "\n",
    "n = len(SIDs)\n",
    "m = len(Items)\n",
    "horizon = len(Beeps)\n",
    "Q = len(TRAITS)\n",
    "\n",
    "# x: [i,j,h]\n",
    "train_x = torch.zeros((data.shape[0],3))\n",
    "train_y = torch.zeros((data.shape[0],))\n",
    "\n",
    "iter = 0\n",
    "for _, row in data.iterrows():\n",
    "    i = np.where(row[\"SID\"]==SIDs)[0][0]\n",
    "    j = np.where(row[\"Item\"]==Items)[0][0]\n",
    "    h = np.where(row[\"all_beeps\"]==Beeps)[0][0]\n",
    "    train_x[iter, 0] = i\n",
    "    train_x[iter, 1] = j\n",
    "    train_x[iter, 2] = h\n",
    "    train_y[iter] = row[\"value\"] - 1\n",
    "    iter += 1\n",
    "\n",
    "train_ratio = 0.8\n",
    "train_mask = np.zeros((data.shape[0],))\n",
    "train_mask[np.random.choice(data.shape[0], int(data.shape[0]*train_ratio),replace=False)] = 1\n",
    "test_x = train_x[train_mask==0]\n",
    "test_y = train_y[train_mask==0]\n",
    "train_x = train_x[train_mask==1]\n",
    "train_y = train_y[train_mask==1]"
   ]
  },
  {
   "cell_type": "markdown",
   "metadata": {},
   "source": [
    "Dirichlet-based Gaussian Processes for Large-Scale Calibrated Classification"
   ]
  },
  {
   "cell_type": "code",
   "execution_count": 13,
   "metadata": {},
   "outputs": [],
   "source": [
    "from gpytorch.models import ApproximateGP\n",
    "from gpytorch.kernels import RBFKernel, IndexKernel\n",
    "from utilities.util import MyDirichletClassificationLikelihood, OrdinalLikelihood\n",
    "from gpytorch.means import Mean\n",
    "\n",
    "class ConstantVectorMean(Mean):\n",
    "    def __init__(self, size, prior=None, batch_shape=torch.Size(), **kwargs):\n",
    "        super().__init__()\n",
    "        self.batch_shape = batch_shape\n",
    "        self.register_parameter(name=\"constantvector\",\\\n",
    "                 parameter=torch.nn.Parameter(torch.zeros(*batch_shape, *size)))\n",
    "        if prior is not None:\n",
    "            self.register_prior(\"constantvector_prior\", prior, \"constantvector\")\n",
    "\n",
    "    def forward(self, input):\n",
    "        results = torch.zeros((input.shape[0],))\n",
    "        for i in range(input.shape[0]):\n",
    "            results[i] = self.constantvector[input[i,0].int(),input[i,1].int()]\n",
    "        return results\n",
    "\n",
    "class OrdinalLMC(ApproximateGP):\n",
    "    def __init__(self, inducing_points, n, m, C):\n",
    "        self.C = C # cardinality of responses\n",
    "\n",
    "        # Sparse Variational Formulation\n",
    "        q_u = CholeskyVariationalDistribution(inducing_points.size(0))\n",
    "        q_f = VariationalStrategy(self, inducing_points, q_u, \\\n",
    "                                  learn_inducing_locations=True)\n",
    "        super().__init__(q_f)\n",
    "\n",
    "        self.mean_module = ConstantVectorMean(size=torch.Size((n,m)))\n",
    "        self.covar_module = RBFKernel(active_dims=[0]) * \\\n",
    "                RBFKernel(active_dims=[2])\n",
    "        self.task_covar_module = IndexKernel(num_tasks=m, rank=10)\n",
    "\n",
    "    def forward(self, x):\n",
    "        mean_x = self.mean_module(x[:,:2])\n",
    "        covar_x = self.covar_module(x) * self.task_covar_module(x[:,1])\n",
    "        dist = MultivariateNormal(mean_x, covar_x)\n",
    "        return dist"
   ]
  },
  {
   "cell_type": "code",
   "execution_count": 14,
   "metadata": {},
   "outputs": [],
   "source": [
    "from gpytorch.constraints import Positive\n",
    "import pandas as pd\n",
    "import torch\n",
    "from gpytorch.means import Mean\n",
    "from gpytorch.module import Module\n",
    "from gpytorch.mlls import KLGaussianAddedLossTerm\n",
    "from torch.distributions import MultivariateNormal\n",
    "from typing import Optional, Tuple\n",
    "\n",
    "#!/usr/bin/env python3\n",
    "\n",
    "import warnings\n",
    "\n",
    "import torch\n",
    "\n",
    "from gpytorch.distributions import base_distributions\n",
    "from gpytorch.functions import log_normal_cdf\n",
    "from gpytorch.likelihoods.likelihood import _OneDimensionalLikelihood\n",
    "\n",
    "\n",
    "class OrdinalLikelihood(_OneDimensionalLikelihood):\n",
    "    r\"\"\"\n",
    "    Implements the Ordinal likelihood used for GP classification, using\n",
    "    logit regression (i.e., the latent function is warped to be in [0,1]\n",
    "    using the standard Normal CDF :math:`\\Phi(x)`).\n",
    "    .. math::\n",
    "        \\begin{equation*}\n",
    "            p(Y=c|f)=\\Phi(b_c-f)-\\Phi(b_{c-1}-f)\n",
    "        \\end{equation*}\n",
    "    \"\"\"\n",
    "    has_analytic_marginal: bool = True\n",
    "\n",
    "    def __init__(self, thresholds, **kwargs):\n",
    "        super().__init__(**kwargs)\n",
    "        self.C = thresholds.shape[0] - 1\n",
    "        thresholds, _ = torch.sort(thresholds)\n",
    "        if self.C>2:\n",
    "            self.register_parameter(\"b1\", parameter=torch.nn.Parameter(\\\n",
    "                torch.Tensor(thresholds[1])))\n",
    "        if self.C>3:\n",
    "            self.register_parameter(\"deltas\", parameter=torch.nn.Parameter(\\\n",
    "                self._threshold_to_delta(thresholds)))\n",
    "            self.register_constraint(\"deltas\", Positive())\n",
    "        \n",
    "    def _threshold_to_delta(self, thresholds):\n",
    "        C = self.C\n",
    "        deltas = torch.zeros((C-2,))\n",
    "        deltas[0] = thresholds[1]\n",
    "        for c in range(2,C):\n",
    "            deltas[c-2] = thresholds[c] - thresholds[c-1]\n",
    "        return deltas\n",
    "    \n",
    "    def _delta_to_threshold(self, b1, deltas):\n",
    "        C = self.C\n",
    "        thresholds = torch.zeros((C+1,))\n",
    "        thresholds[0] = torch.tensor([float('-inf')])\n",
    "        thresholds[C] = torch.tensor([float('inf')])\n",
    "        thresholds[1] = b1\n",
    "        for c in range(2,C):\n",
    "            thresholds[c] = thresholds[c-1] + deltas[c-2]\n",
    "        return thresholds\n",
    "    \n",
    "    def _get_thresholds(self):\n",
    "        thresholds = torch.zeros(self.C+1,)\n",
    "        thresholds[0] = float(\"-inf\")\n",
    "        thresholds[self.C] = float(\"inf\")\n",
    "        if self.C>2:\n",
    "            thresholds[1] = self.b1.data\n",
    "        if self.C>3:\n",
    "            thresholds[2:self.C] = self.delta.data\n",
    "        return thresholds\n",
    "\n",
    "    def forward(self, function_samples, **kwargs):\n",
    "        thresholds = self._get_thresholds()\n",
    "        link2 = thresholds[1:] - function_samples\n",
    "        link1 = thresholds[:-1] - function_samples\n",
    "        output_probs = base_distributions.Normal(0, 1).cdf(link2) \\\n",
    "                    -base_distributions.Normal(0, 1).cdf(link1)\n",
    "        return base_distributions.Categorical(probs=output_probs)\n",
    "\n",
    "    def log_marginal(self, observations, function_dist, *args, **kwargs):\n",
    "        marginal = self.marginal(function_dist, *args, **kwargs)\n",
    "        return marginal.log_prob(observations)\n",
    "    \n",
    "    def marginal(self, function_dist, **kwargs):\n",
    "        mean = function_dist.mean\n",
    "        var = function_dist.variance\n",
    "        thresholds = self._get_thresholds()\n",
    "        link2 = (thresholds[1:].unsqueeze(1).unsqueeze(2).repeat(torch.Size([1,*mean.shape]))\\\n",
    "                  - mean).div(torch.sqrt(1+var))\n",
    "        link1 = (thresholds[:-1].unsqueeze(1).unsqueeze(2).repeat(torch.Size([1,*mean.shape]))\\\n",
    "                  - mean).div(torch.sqrt(1+var))\n",
    "        output_probs = base_distributions.Normal(0, 1).cdf(link2) \\\n",
    "                        - base_distributions.Normal(0, 1).cdf(link1)\n",
    "        return base_distributions.Categorical(probs=output_probs)\n",
    "    \n",
    "    def expected_log_prob(self, observations, function_dist, *params, **kwargs):\n",
    "        # Custom function here so we can use log_normal_cdf rather than Normal.cdf\n",
    "        # This is going to be less prone to overflow errors\n",
    "        thresholds = self._get_thresholds()\n",
    "        log_prob_lambda = lambda function_samples: log_normal_cdf((thresholds[observations].unsqueeze(1).unsqueeze(2).repeat(torch.Size([1,*mean.shape]))\\\n",
    "                  - function_dist.mean).div(torch.sqrt(1+function_dist.variance))) \\\n",
    "                  - log_normal_cdf((thresholds[observations-1].unsqueeze(1).unsqueeze(2).repeat(torch.Size([1,*mean.shape]))\\\n",
    "                  - function_dist.mean).div(torch.sqrt(1+function_dist.variance)))\n",
    "        log_prob = self.quadrature(log_prob_lambda, function_dist)\n",
    "        return log_prob"
   ]
  },
  {
   "cell_type": "code",
   "execution_count": 15,
   "metadata": {},
   "outputs": [
    {
     "ename": "RuntimeError",
     "evalue": "Invalid expand arguments (-1, -1). Currently, repeat only works to create repeated batches of a 2D LazyTensor.",
     "output_type": "error",
     "traceback": [
      "\u001b[0;31m---------------------------------------------------------------------------\u001b[0m",
      "\u001b[0;31mRuntimeError\u001b[0m                              Traceback (most recent call last)",
      "\u001b[0;32m<ipython-input-15-f47a414024ba>\u001b[0m in \u001b[0;36m<module>\u001b[0;34m\u001b[0m\n\u001b[1;32m     35\u001b[0m     \u001b[0;32mfor\u001b[0m \u001b[0mj\u001b[0m\u001b[0;34m,\u001b[0m \u001b[0;34m(\u001b[0m\u001b[0mx_batch\u001b[0m\u001b[0;34m,\u001b[0m \u001b[0my_batch\u001b[0m\u001b[0;34m)\u001b[0m \u001b[0;32min\u001b[0m \u001b[0menumerate\u001b[0m\u001b[0;34m(\u001b[0m\u001b[0mtrain_loader\u001b[0m\u001b[0;34m)\u001b[0m\u001b[0;34m:\u001b[0m\u001b[0;34m\u001b[0m\u001b[0;34m\u001b[0m\u001b[0m\n\u001b[1;32m     36\u001b[0m         \u001b[0moptimizer\u001b[0m\u001b[0;34m.\u001b[0m\u001b[0mzero_grad\u001b[0m\u001b[0;34m(\u001b[0m\u001b[0;34m)\u001b[0m\u001b[0;34m\u001b[0m\u001b[0;34m\u001b[0m\u001b[0m\n\u001b[0;32m---> 37\u001b[0;31m         \u001b[0moutput\u001b[0m \u001b[0;34m=\u001b[0m \u001b[0mmodel\u001b[0m\u001b[0;34m(\u001b[0m\u001b[0mx_batch\u001b[0m\u001b[0;34m)\u001b[0m\u001b[0;34m\u001b[0m\u001b[0;34m\u001b[0m\u001b[0m\n\u001b[0m\u001b[1;32m     38\u001b[0m         \u001b[0;31m# _, transformed_target_batch = likelihood._prepare_targets(y_batch.long(),\\\u001b[0m\u001b[0;34m\u001b[0m\u001b[0;34m\u001b[0m\u001b[0;34m\u001b[0m\u001b[0m\n\u001b[1;32m     39\u001b[0m         \u001b[0;31m#                          C,alpha_epsilon=likelihood.alpha_epsilon)\u001b[0m\u001b[0;34m\u001b[0m\u001b[0;34m\u001b[0m\u001b[0;34m\u001b[0m\u001b[0m\n",
      "\u001b[0;32m~/anaconda3/lib/python3.7/site-packages/gpytorch/models/approximate_gp.py\u001b[0m in \u001b[0;36m__call__\u001b[0;34m(self, inputs, prior, **kwargs)\u001b[0m\n\u001b[1;32m    106\u001b[0m         \u001b[0;32mif\u001b[0m \u001b[0minputs\u001b[0m\u001b[0;34m.\u001b[0m\u001b[0mdim\u001b[0m\u001b[0;34m(\u001b[0m\u001b[0;34m)\u001b[0m \u001b[0;34m==\u001b[0m \u001b[0;36m1\u001b[0m\u001b[0;34m:\u001b[0m\u001b[0;34m\u001b[0m\u001b[0;34m\u001b[0m\u001b[0m\n\u001b[1;32m    107\u001b[0m             \u001b[0minputs\u001b[0m \u001b[0;34m=\u001b[0m \u001b[0minputs\u001b[0m\u001b[0;34m.\u001b[0m\u001b[0munsqueeze\u001b[0m\u001b[0;34m(\u001b[0m\u001b[0;34m-\u001b[0m\u001b[0;36m1\u001b[0m\u001b[0;34m)\u001b[0m\u001b[0;34m\u001b[0m\u001b[0;34m\u001b[0m\u001b[0m\n\u001b[0;32m--> 108\u001b[0;31m         \u001b[0;32mreturn\u001b[0m \u001b[0mself\u001b[0m\u001b[0;34m.\u001b[0m\u001b[0mvariational_strategy\u001b[0m\u001b[0;34m(\u001b[0m\u001b[0minputs\u001b[0m\u001b[0;34m,\u001b[0m \u001b[0mprior\u001b[0m\u001b[0;34m=\u001b[0m\u001b[0mprior\u001b[0m\u001b[0;34m,\u001b[0m \u001b[0;34m**\u001b[0m\u001b[0mkwargs\u001b[0m\u001b[0;34m)\u001b[0m\u001b[0;34m\u001b[0m\u001b[0;34m\u001b[0m\u001b[0m\n\u001b[0m",
      "\u001b[0;32m~/anaconda3/lib/python3.7/site-packages/gpytorch/variational/variational_strategy.py\u001b[0m in \u001b[0;36m__call__\u001b[0;34m(self, x, prior, **kwargs)\u001b[0m\n\u001b[1;32m    240\u001b[0m                 \u001b[0mself\u001b[0m\u001b[0;34m.\u001b[0m\u001b[0mupdated_strategy\u001b[0m\u001b[0;34m.\u001b[0m\u001b[0mfill_\u001b[0m\u001b[0;34m(\u001b[0m\u001b[0;32mTrue\u001b[0m\u001b[0;34m)\u001b[0m\u001b[0;34m\u001b[0m\u001b[0;34m\u001b[0m\u001b[0m\n\u001b[1;32m    241\u001b[0m \u001b[0;34m\u001b[0m\u001b[0m\n\u001b[0;32m--> 242\u001b[0;31m         \u001b[0;32mreturn\u001b[0m \u001b[0msuper\u001b[0m\u001b[0;34m(\u001b[0m\u001b[0;34m)\u001b[0m\u001b[0;34m.\u001b[0m\u001b[0m__call__\u001b[0m\u001b[0;34m(\u001b[0m\u001b[0mx\u001b[0m\u001b[0;34m,\u001b[0m \u001b[0mprior\u001b[0m\u001b[0;34m=\u001b[0m\u001b[0mprior\u001b[0m\u001b[0;34m,\u001b[0m \u001b[0;34m**\u001b[0m\u001b[0mkwargs\u001b[0m\u001b[0;34m)\u001b[0m\u001b[0;34m\u001b[0m\u001b[0;34m\u001b[0m\u001b[0m\n\u001b[0m",
      "\u001b[0;32m~/anaconda3/lib/python3.7/site-packages/gpytorch/variational/_variational_strategy.py\u001b[0m in \u001b[0;36m__call__\u001b[0;34m(self, x, prior, **kwargs)\u001b[0m\n\u001b[1;32m    305\u001b[0m                 \u001b[0minducing_values\u001b[0m\u001b[0;34m=\u001b[0m\u001b[0mvariational_dist_u\u001b[0m\u001b[0;34m.\u001b[0m\u001b[0mmean\u001b[0m\u001b[0;34m,\u001b[0m\u001b[0;34m\u001b[0m\u001b[0;34m\u001b[0m\u001b[0m\n\u001b[1;32m    306\u001b[0m                 \u001b[0mvariational_inducing_covar\u001b[0m\u001b[0;34m=\u001b[0m\u001b[0mvariational_dist_u\u001b[0m\u001b[0;34m.\u001b[0m\u001b[0mlazy_covariance_matrix\u001b[0m\u001b[0;34m,\u001b[0m\u001b[0;34m\u001b[0m\u001b[0;34m\u001b[0m\u001b[0m\n\u001b[0;32m--> 307\u001b[0;31m                 \u001b[0;34m**\u001b[0m\u001b[0mkwargs\u001b[0m\u001b[0;34m,\u001b[0m\u001b[0;34m\u001b[0m\u001b[0;34m\u001b[0m\u001b[0m\n\u001b[0m\u001b[1;32m    308\u001b[0m             )\n\u001b[1;32m    309\u001b[0m         \u001b[0;32melif\u001b[0m \u001b[0misinstance\u001b[0m\u001b[0;34m(\u001b[0m\u001b[0mvariational_dist_u\u001b[0m\u001b[0;34m,\u001b[0m \u001b[0mDelta\u001b[0m\u001b[0;34m)\u001b[0m\u001b[0;34m:\u001b[0m\u001b[0;34m\u001b[0m\u001b[0;34m\u001b[0m\u001b[0m\n",
      "\u001b[0;32m~/anaconda3/lib/python3.7/site-packages/gpytorch/module.py\u001b[0m in \u001b[0;36m__call__\u001b[0;34m(self, *inputs, **kwargs)\u001b[0m\n\u001b[1;32m     28\u001b[0m \u001b[0;34m\u001b[0m\u001b[0m\n\u001b[1;32m     29\u001b[0m     \u001b[0;32mdef\u001b[0m \u001b[0m__call__\u001b[0m\u001b[0;34m(\u001b[0m\u001b[0mself\u001b[0m\u001b[0;34m,\u001b[0m \u001b[0;34m*\u001b[0m\u001b[0minputs\u001b[0m\u001b[0;34m,\u001b[0m \u001b[0;34m**\u001b[0m\u001b[0mkwargs\u001b[0m\u001b[0;34m)\u001b[0m\u001b[0;34m:\u001b[0m\u001b[0;34m\u001b[0m\u001b[0;34m\u001b[0m\u001b[0m\n\u001b[0;32m---> 30\u001b[0;31m         \u001b[0moutputs\u001b[0m \u001b[0;34m=\u001b[0m \u001b[0mself\u001b[0m\u001b[0;34m.\u001b[0m\u001b[0mforward\u001b[0m\u001b[0;34m(\u001b[0m\u001b[0;34m*\u001b[0m\u001b[0minputs\u001b[0m\u001b[0;34m,\u001b[0m \u001b[0;34m**\u001b[0m\u001b[0mkwargs\u001b[0m\u001b[0;34m)\u001b[0m\u001b[0;34m\u001b[0m\u001b[0;34m\u001b[0m\u001b[0m\n\u001b[0m\u001b[1;32m     31\u001b[0m         \u001b[0;32mif\u001b[0m \u001b[0misinstance\u001b[0m\u001b[0;34m(\u001b[0m\u001b[0moutputs\u001b[0m\u001b[0;34m,\u001b[0m \u001b[0mlist\u001b[0m\u001b[0;34m)\u001b[0m\u001b[0;34m:\u001b[0m\u001b[0;34m\u001b[0m\u001b[0;34m\u001b[0m\u001b[0m\n\u001b[1;32m     32\u001b[0m             \u001b[0;32mreturn\u001b[0m \u001b[0;34m[\u001b[0m\u001b[0m_validate_module_outputs\u001b[0m\u001b[0;34m(\u001b[0m\u001b[0moutput\u001b[0m\u001b[0;34m)\u001b[0m \u001b[0;32mfor\u001b[0m \u001b[0moutput\u001b[0m \u001b[0;32min\u001b[0m \u001b[0moutputs\u001b[0m\u001b[0;34m]\u001b[0m\u001b[0;34m\u001b[0m\u001b[0;34m\u001b[0m\u001b[0m\n",
      "\u001b[0;32m~/anaconda3/lib/python3.7/site-packages/gpytorch/variational/variational_strategy.py\u001b[0m in \u001b[0;36mforward\u001b[0;34m(self, x, inducing_points, inducing_values, variational_inducing_covar, **kwargs)\u001b[0m\n\u001b[1;32m    161\u001b[0m         \u001b[0;31m# Compute full prior distribution\u001b[0m\u001b[0;34m\u001b[0m\u001b[0;34m\u001b[0m\u001b[0;34m\u001b[0m\u001b[0m\n\u001b[1;32m    162\u001b[0m         \u001b[0mfull_inputs\u001b[0m \u001b[0;34m=\u001b[0m \u001b[0mtorch\u001b[0m\u001b[0;34m.\u001b[0m\u001b[0mcat\u001b[0m\u001b[0;34m(\u001b[0m\u001b[0;34m[\u001b[0m\u001b[0minducing_points\u001b[0m\u001b[0;34m,\u001b[0m \u001b[0mx\u001b[0m\u001b[0;34m]\u001b[0m\u001b[0;34m,\u001b[0m \u001b[0mdim\u001b[0m\u001b[0;34m=\u001b[0m\u001b[0;34m-\u001b[0m\u001b[0;36m2\u001b[0m\u001b[0;34m)\u001b[0m\u001b[0;34m\u001b[0m\u001b[0;34m\u001b[0m\u001b[0m\n\u001b[0;32m--> 163\u001b[0;31m         \u001b[0mfull_output\u001b[0m \u001b[0;34m=\u001b[0m \u001b[0mself\u001b[0m\u001b[0;34m.\u001b[0m\u001b[0mmodel\u001b[0m\u001b[0;34m.\u001b[0m\u001b[0mforward\u001b[0m\u001b[0;34m(\u001b[0m\u001b[0mfull_inputs\u001b[0m\u001b[0;34m,\u001b[0m \u001b[0;34m**\u001b[0m\u001b[0mkwargs\u001b[0m\u001b[0;34m)\u001b[0m\u001b[0;34m\u001b[0m\u001b[0;34m\u001b[0m\u001b[0m\n\u001b[0m\u001b[1;32m    164\u001b[0m         \u001b[0mfull_covar\u001b[0m \u001b[0;34m=\u001b[0m \u001b[0mfull_output\u001b[0m\u001b[0;34m.\u001b[0m\u001b[0mlazy_covariance_matrix\u001b[0m\u001b[0;34m\u001b[0m\u001b[0;34m\u001b[0m\u001b[0m\n\u001b[1;32m    165\u001b[0m \u001b[0;34m\u001b[0m\u001b[0m\n",
      "\u001b[0;32m<ipython-input-13-762040837be3>\u001b[0m in \u001b[0;36mforward\u001b[0;34m(self, x)\u001b[0m\n\u001b[1;32m     37\u001b[0m         \u001b[0mmean_x\u001b[0m \u001b[0;34m=\u001b[0m \u001b[0mself\u001b[0m\u001b[0;34m.\u001b[0m\u001b[0mmean_module\u001b[0m\u001b[0;34m(\u001b[0m\u001b[0mx\u001b[0m\u001b[0;34m[\u001b[0m\u001b[0;34m:\u001b[0m\u001b[0;34m,\u001b[0m\u001b[0;34m:\u001b[0m\u001b[0;36m2\u001b[0m\u001b[0;34m]\u001b[0m\u001b[0;34m)\u001b[0m\u001b[0;34m\u001b[0m\u001b[0;34m\u001b[0m\u001b[0m\n\u001b[1;32m     38\u001b[0m         \u001b[0mcovar_x\u001b[0m \u001b[0;34m=\u001b[0m \u001b[0mself\u001b[0m\u001b[0;34m.\u001b[0m\u001b[0mcovar_module\u001b[0m\u001b[0;34m(\u001b[0m\u001b[0mx\u001b[0m\u001b[0;34m)\u001b[0m \u001b[0;34m*\u001b[0m \u001b[0mself\u001b[0m\u001b[0;34m.\u001b[0m\u001b[0mtask_covar_module\u001b[0m\u001b[0;34m(\u001b[0m\u001b[0mx\u001b[0m\u001b[0;34m[\u001b[0m\u001b[0;34m:\u001b[0m\u001b[0;34m,\u001b[0m\u001b[0;36m1\u001b[0m\u001b[0;34m]\u001b[0m\u001b[0;34m)\u001b[0m\u001b[0;34m\u001b[0m\u001b[0;34m\u001b[0m\u001b[0m\n\u001b[0;32m---> 39\u001b[0;31m         \u001b[0mdist\u001b[0m \u001b[0;34m=\u001b[0m \u001b[0mMultivariateNormal\u001b[0m\u001b[0;34m(\u001b[0m\u001b[0mmean_x\u001b[0m\u001b[0;34m,\u001b[0m \u001b[0mcovar_x\u001b[0m\u001b[0;34m)\u001b[0m\u001b[0;34m\u001b[0m\u001b[0;34m\u001b[0m\u001b[0m\n\u001b[0m\u001b[1;32m     40\u001b[0m         \u001b[0;32mreturn\u001b[0m \u001b[0mdist\u001b[0m\u001b[0;34m\u001b[0m\u001b[0;34m\u001b[0m\u001b[0m\n",
      "\u001b[0;32m~/anaconda3/lib/python3.7/site-packages/torch/distributions/multivariate_normal.py\u001b[0m in \u001b[0;36m__init__\u001b[0;34m(self, loc, covariance_matrix, precision_matrix, scale_tril, validate_args)\u001b[0m\n\u001b[1;32m    134\u001b[0m                                  \"with optional leading batch dimensions\")\n\u001b[1;32m    135\u001b[0m             \u001b[0mbatch_shape\u001b[0m \u001b[0;34m=\u001b[0m \u001b[0mtorch\u001b[0m\u001b[0;34m.\u001b[0m\u001b[0mbroadcast_shapes\u001b[0m\u001b[0;34m(\u001b[0m\u001b[0mcovariance_matrix\u001b[0m\u001b[0;34m.\u001b[0m\u001b[0mshape\u001b[0m\u001b[0;34m[\u001b[0m\u001b[0;34m:\u001b[0m\u001b[0;34m-\u001b[0m\u001b[0;36m2\u001b[0m\u001b[0;34m]\u001b[0m\u001b[0;34m,\u001b[0m \u001b[0mloc\u001b[0m\u001b[0;34m.\u001b[0m\u001b[0mshape\u001b[0m\u001b[0;34m[\u001b[0m\u001b[0;34m:\u001b[0m\u001b[0;34m-\u001b[0m\u001b[0;36m1\u001b[0m\u001b[0;34m]\u001b[0m\u001b[0;34m)\u001b[0m\u001b[0;34m\u001b[0m\u001b[0;34m\u001b[0m\u001b[0m\n\u001b[0;32m--> 136\u001b[0;31m             \u001b[0mself\u001b[0m\u001b[0;34m.\u001b[0m\u001b[0mcovariance_matrix\u001b[0m \u001b[0;34m=\u001b[0m \u001b[0mcovariance_matrix\u001b[0m\u001b[0;34m.\u001b[0m\u001b[0mexpand\u001b[0m\u001b[0;34m(\u001b[0m\u001b[0mbatch_shape\u001b[0m \u001b[0;34m+\u001b[0m \u001b[0;34m(\u001b[0m\u001b[0;34m-\u001b[0m\u001b[0;36m1\u001b[0m\u001b[0;34m,\u001b[0m \u001b[0;34m-\u001b[0m\u001b[0;36m1\u001b[0m\u001b[0;34m)\u001b[0m\u001b[0;34m)\u001b[0m\u001b[0;34m\u001b[0m\u001b[0;34m\u001b[0m\u001b[0m\n\u001b[0m\u001b[1;32m    137\u001b[0m         \u001b[0;32melse\u001b[0m\u001b[0;34m:\u001b[0m\u001b[0;34m\u001b[0m\u001b[0;34m\u001b[0m\u001b[0m\n\u001b[1;32m    138\u001b[0m             \u001b[0;32mif\u001b[0m \u001b[0mprecision_matrix\u001b[0m\u001b[0;34m.\u001b[0m\u001b[0mdim\u001b[0m\u001b[0;34m(\u001b[0m\u001b[0;34m)\u001b[0m \u001b[0;34m<\u001b[0m \u001b[0;36m2\u001b[0m\u001b[0;34m:\u001b[0m\u001b[0;34m\u001b[0m\u001b[0;34m\u001b[0m\u001b[0m\n",
      "\u001b[0;32m~/anaconda3/lib/python3.7/site-packages/gpytorch/lazy/lazy_tensor.py\u001b[0m in \u001b[0;36mexpand\u001b[0;34m(self, *sizes)\u001b[0m\n\u001b[1;32m   1121\u001b[0m             raise RuntimeError(\n\u001b[1;32m   1122\u001b[0m                 \u001b[0;34m\"Invalid expand arguments {}. Currently, repeat only works to create repeated \"\u001b[0m\u001b[0;34m\u001b[0m\u001b[0;34m\u001b[0m\u001b[0m\n\u001b[0;32m-> 1123\u001b[0;31m                 \u001b[0;34m\"batches of a 2D LazyTensor.\"\u001b[0m\u001b[0;34m.\u001b[0m\u001b[0mformat\u001b[0m\u001b[0;34m(\u001b[0m\u001b[0mtuple\u001b[0m\u001b[0;34m(\u001b[0m\u001b[0msizes\u001b[0m\u001b[0;34m)\u001b[0m\u001b[0;34m)\u001b[0m\u001b[0;34m\u001b[0m\u001b[0;34m\u001b[0m\u001b[0m\n\u001b[0m\u001b[1;32m   1124\u001b[0m             )\n\u001b[1;32m   1125\u001b[0m         \u001b[0;32melif\u001b[0m \u001b[0mall\u001b[0m\u001b[0;34m(\u001b[0m\u001b[0misinstance\u001b[0m\u001b[0;34m(\u001b[0m\u001b[0msize\u001b[0m\u001b[0;34m,\u001b[0m \u001b[0mint\u001b[0m\u001b[0;34m)\u001b[0m \u001b[0;32mfor\u001b[0m \u001b[0msize\u001b[0m \u001b[0;32min\u001b[0m \u001b[0msizes\u001b[0m\u001b[0;34m)\u001b[0m\u001b[0;34m:\u001b[0m\u001b[0;34m\u001b[0m\u001b[0;34m\u001b[0m\u001b[0m\n",
      "\u001b[0;31mRuntimeError\u001b[0m: Invalid expand arguments (-1, -1). Currently, repeat only works to create repeated batches of a 2D LazyTensor."
     ]
    }
   ],
   "source": [
    "from torch.utils.data import TensorDataset, DataLoader\n",
    "train_dataset = TensorDataset(train_x, train_y)\n",
    "load_batch_size = 1024\n",
    "train_loader = DataLoader(train_dataset, batch_size=load_batch_size, shuffle=True)\n",
    "\n",
    "test_dataset = TensorDataset(test_x, test_y)\n",
    "test_loader = DataLoader(test_dataset, batch_size=load_batch_size, shuffle=False)\n",
    "\n",
    "# initialize likelihood and model\n",
    "num_inducing = 500\n",
    "inducing_points = train_x[np.random.choice(train_x.size(0),num_inducing,replace=False),:]\n",
    "# likelihood = MyDirichletClassificationLikelihood(train_y.long(), C, learn_additional_noise=True)\n",
    "likelihood = OrdinalLikelihood(thresholds=torch.tensor([float('-inf'),\\\n",
    "                                    -2.,-1.,1.,2.,float('inf')]))\n",
    "\n",
    "model = OrdinalLMC(inducing_points,n,m,C)\n",
    "\n",
    "num_epochs = 5\n",
    "\n",
    "model.train()\n",
    "likelihood.train()\n",
    "\n",
    "model.covar_module.kernels[0].raw_lengthscale.requires_grad = False\n",
    "model.covar_module.kernels[0].lengthscale = 0.1\n",
    "\n",
    "optimizer = torch.optim.Adam([\n",
    "    {'params': model.parameters()},\n",
    "    {'params': likelihood.parameters()},\n",
    "], lr=0.05)\n",
    "\n",
    "# Our loss object. We're using the VariationalELBO\n",
    "mll = gpytorch.mlls.VariationalELBO(likelihood, model, num_data=train_y.size(0))\n",
    "\n",
    "for i in range(num_epochs):\n",
    "    for j, (x_batch, y_batch) in enumerate(train_loader):\n",
    "        optimizer.zero_grad()\n",
    "        output = model(x_batch)\n",
    "        # _, transformed_target_batch = likelihood._prepare_targets(y_batch.long(),\\\n",
    "        #                          C,alpha_epsilon=likelihood.alpha_epsilon)\n",
    "        loss = -mll(output, y_batch).sum()\n",
    "        loss.backward()\n",
    "        optimizer.step()\n",
    "        if j % 50:\n",
    "            print('Epoch %d Iter %d - Loss: %.3f' % (i + 1, j+1, loss.item()))\n"
   ]
  },
  {
   "cell_type": "code",
   "execution_count": 87,
   "metadata": {},
   "outputs": [],
   "source": [
    "model.eval()\n",
    "likelihood.eval()\n",
    "means = torch.zeros((C,1))\n",
    "true_ys = torch.tensor([0])\n",
    "with gpytorch.settings.fast_pred_var(), torch.no_grad():\n",
    "    for x_batch, y_batch in train_loader:\n",
    "        test_dist = model(x_batch)\n",
    "        pred_samples = test_dist.sample(torch.Size((256,))).exp()\n",
    "        probabilities = (pred_samples / pred_samples.sum(-2, keepdim=True)).mean(0)\n",
    "        means = torch.cat([means, probabilities],dim=1)\n",
    "        true_ys = torch.cat([true_ys, y_batch])\n",
    "means = means[:,1:]\n",
    "true_ys = true_ys[1:]"
   ]
  },
  {
   "cell_type": "code",
   "execution_count": 88,
   "metadata": {},
   "outputs": [
    {
     "data": {
      "text/plain": [
       "array([[1.        , 0.63159658],\n",
       "       [0.63159658, 1.        ]])"
      ]
     },
     "execution_count": 88,
     "metadata": {},
     "output_type": "execute_result"
    }
   ],
   "source": [
    "np.corrcoef(true_ys, means.argmax(dim=0))"
   ]
  },
  {
   "cell_type": "code",
   "execution_count": 89,
   "metadata": {},
   "outputs": [
    {
     "data": {
      "text/plain": [
       "tensor(0.6110)"
      ]
     },
     "execution_count": 89,
     "metadata": {},
     "output_type": "execute_result"
    }
   ],
   "source": [
    "torch.sum(true_ys==means.argmax(dim=0)) / true_ys.shape[0]"
   ]
  },
  {
   "cell_type": "code",
   "execution_count": 90,
   "metadata": {},
   "outputs": [
    {
     "data": {
      "text/plain": [
       "tensor(0.8719)"
      ]
     },
     "execution_count": 90,
     "metadata": {},
     "output_type": "execute_result"
    }
   ],
   "source": [
    "torch.sum(torch.abs(true_ys-means.argmax(dim=0))<=1) / true_ys.shape[0]"
   ]
  },
  {
   "cell_type": "code",
   "execution_count": 91,
   "metadata": {},
   "outputs": [],
   "source": [
    "model.eval()\n",
    "likelihood.eval()\n",
    "means = torch.zeros((C,1))\n",
    "true_ys = torch.tensor([0])\n",
    "with gpytorch.settings.fast_pred_var(), torch.no_grad():\n",
    "    for x_batch, y_batch in test_loader:\n",
    "        test_dist = model(x_batch)\n",
    "        pred_samples = test_dist.sample(torch.Size((256,))).exp()\n",
    "        probabilities = (pred_samples / pred_samples.sum(-2, keepdim=True)).mean(0)\n",
    "        means = torch.cat([means, probabilities],dim=1)\n",
    "        true_ys = torch.cat([true_ys, y_batch])\n",
    "means = means[:,1:]\n",
    "true_ys = true_ys[1:]"
   ]
  },
  {
   "cell_type": "code",
   "execution_count": 92,
   "metadata": {},
   "outputs": [
    {
     "data": {
      "text/plain": [
       "array([[1.        , 0.53409676],\n",
       "       [0.53409676, 1.        ]])"
      ]
     },
     "execution_count": 92,
     "metadata": {},
     "output_type": "execute_result"
    }
   ],
   "source": [
    "np.corrcoef(true_ys, means.argmax(dim=0))"
   ]
  },
  {
   "cell_type": "code",
   "execution_count": 93,
   "metadata": {},
   "outputs": [
    {
     "data": {
      "text/plain": [
       "tensor(0.5101)"
      ]
     },
     "execution_count": 93,
     "metadata": {},
     "output_type": "execute_result"
    }
   ],
   "source": [
    "torch.sum(true_ys==means.argmax(dim=0)) / true_ys.shape[0]"
   ]
  },
  {
   "cell_type": "code",
   "execution_count": 94,
   "metadata": {},
   "outputs": [
    {
     "data": {
      "text/plain": [
       "tensor(0.8357)"
      ]
     },
     "execution_count": 94,
     "metadata": {},
     "output_type": "execute_result"
    }
   ],
   "source": [
    "torch.sum(torch.abs(true_ys-means.argmax(dim=0))<=1) / true_ys.shape[0]"
   ]
  },
  {
   "cell_type": "code",
   "execution_count": 95,
   "metadata": {},
   "outputs": [
    {
     "data": {
      "text/plain": [
       "<AxesSubplot:>"
      ]
     },
     "execution_count": 95,
     "metadata": {},
     "output_type": "execute_result"
    },
    {
     "data": {
      "image/png": "[encoded data removed]",
      "text/plain": [
       "<Figure size 432x288 with 2 Axes>"
      ]
     },
     "metadata": {
      "needs_background": "light"
     },
     "output_type": "display_data"
    }
   ],
   "source": [
    "import seaborn as sns\n",
    "sns.heatmap((model.task_covar_module.covar_matrix.evaluate()).detach().numpy())"
   ]
  }
 ],
 "metadata": {
  "kernelspec": {
   "display_name": "base",
   "language": "python",
   "name": "python3"
  },
  "language_info": {
   "codemirror_mode": {
    "name": "ipython",
    "version": 3
   },
   "file_extension": ".py",
   "mimetype": "text/x-python",
   "name": "python",
   "nbconvert_exporter": "python",
   "pygments_lexer": "ipython3",
   "version": "3.7.3"
  },
  "orig_nbformat": 4
 },
 "nbformat": 4,
 "nbformat_minor": 2
}
